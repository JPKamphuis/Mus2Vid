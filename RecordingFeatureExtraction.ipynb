{
 "cells": [
  {
   "cell_type": "code",
   "execution_count": 8,
   "id": "693de13e-a18f-4a97-ac79-ff8cdf35b8de",
   "metadata": {
    "tags": []
   },
   "outputs": [],
   "source": [
    "import pyaudio\n",
    "import wave\n",
    "import librosa"
   ]
  },
  {
   "cell_type": "code",
   "execution_count": 9,
   "id": "c31572ee-6405-45ed-9ec8-cff8da01ee3d",
   "metadata": {},
   "outputs": [
    {
     "name": "stdout",
     "output_type": "stream",
     "text": [
      "beginning recording\n"
     ]
    },
    {
     "name": "stderr",
     "output_type": "stream",
     "text": [
      "Exception ignored in: <function Wave_write.__del__ at 0x000002BC78D6C540>\n",
      "Traceback (most recent call last):\n",
      "  File \"c:\\Users\\roche\\AppData\\Local\\Programs\\Python\\Python311\\Lib\\wave.py\", line 447, in __del__\n",
      "    self.close()\n",
      "  File \"c:\\Users\\roche\\AppData\\Local\\Programs\\Python\\Python311\\Lib\\wave.py\", line 565, in close\n",
      "    self._ensure_header_written(0)\n",
      "  File \"c:\\Users\\roche\\AppData\\Local\\Programs\\Python\\Python311\\Lib\\wave.py\", line 585, in _ensure_header_written\n",
      "    raise Error('sample width not specified')\n",
      "wave.Error: sample width not specified\n"
     ]
    },
    {
     "name": "stdout",
     "output_type": "stream",
     "text": [
      "finishing recording\n",
      "recorded audio converted to wave file\n",
      "loading to librosa\n",
      "The average tempo (in beats per minute) is  161.4990234375\n"
     ]
    }
   ],
   "source": [
    "myP = pyaudio.PyAudio()\n",
    "storedAudio = []\n",
    "\n",
    "stream = myP.open(format = pyaudio.paInt16,\n",
    "                channels = 1,\n",
    "                rate = 44100,\n",
    "                input = True,\n",
    "                frames_per_buffer = 1024)\n",
    "\n",
    "print(\"beginning recording\")\n",
    "\n",
    "#captures the audio at intervals depending on rate and buffer for 8 seconds\n",
    "for i in range(0, 44100//1024 * 8):\n",
    "    storedAudio.append(stream.read(1024))\n",
    "\n",
    "print(\"finishing recording\")\n",
    "\n",
    "stream.stop_stream()\n",
    "stream.close()\n",
    "myP.terminate()\n",
    "\n",
    "file = wave.open(\"audioOutput.wav\", 'wb')\n",
    "file.setnchannels(1)\n",
    "file.setsampwidth(myP.get_sample_size(pyaudio.paInt16))\n",
    "file.setframerate(44100)\n",
    "file.writeframes(b''.join(storedAudio))\n",
    "file.close()\n",
    "\n",
    "print(\"recorded audio converted to wave file\")\n",
    "\n",
    "print(\"loading to librosa\")\n",
    "y, sr = librosa.load(\"audioOutput.wav\", sr=44100)\n",
    "onset_env = librosa.onset.onset_strength(y=y, sr=sr)\n",
    "tempo = librosa.feature.tempo(onset_envelope=onset_env, sr=sr)\n",
    "\n",
    "print(\"The average tempo (in beats per minute) is \", tempo[0])"
   ]
  }
 ],
 "metadata": {
  "kernelspec": {
   "display_name": "Python 3 (ipykernel)",
   "language": "python",
   "name": "python3"
  },
  "language_info": {
   "codemirror_mode": {
    "name": "ipython",
    "version": 3
   },
   "file_extension": ".py",
   "mimetype": "text/x-python",
   "name": "python",
   "nbconvert_exporter": "python",
   "pygments_lexer": "ipython3",
   "version": "3.10.11"
  }
 },
 "nbformat": 4,
 "nbformat_minor": 5
}
