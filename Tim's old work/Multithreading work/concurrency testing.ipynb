{
 "cells": [
  {
   "cell_type": "code",
   "execution_count": 54,
   "id": "d879f253",
   "metadata": {},
   "outputs": [],
   "source": [
    "import threading\n",
    "import random\n",
    "import time"
   ]
  },
  {
   "cell_type": "markdown",
   "id": "c39e2bbd",
   "metadata": {},
   "source": [
    "# Badly synchronized code\n",
    "The code should print 100,000,000, but might not always print it."
   ]
  },
  {
   "cell_type": "code",
   "execution_count": 55,
   "id": "71ededeb",
   "metadata": {},
   "outputs": [
    {
     "name": "stdout",
     "output_type": "stream",
     "text": [
      "98394286\n"
     ]
    }
   ],
   "source": [
    "x = 0\n",
    "\n",
    "class MyThread(threading.Thread):\n",
    "    def run(self):\n",
    "        global x\n",
    "        time.sleep(random.random())\n",
    "        for i in range(100000):\n",
    "            x += 1\n",
    "\n",
    "for i in range(1000):\n",
    "    thread = MyThread(name = i)\n",
    "    thread.start()\n",
    "    \n",
    "print(x)"
   ]
  },
  {
   "cell_type": "markdown",
   "id": "bbbc069c",
   "metadata": {},
   "source": [
    "# OK synchronized code using joins\n",
    "Again, the code should print 100,000,000."
   ]
  },
  {
   "cell_type": "code",
   "execution_count": 58,
   "id": "9a74ecc8",
   "metadata": {},
   "outputs": [
    {
     "name": "stdout",
     "output_type": "stream",
     "text": [
      "100000000\n"
     ]
    }
   ],
   "source": [
    "lock = threading.Lock()\n",
    "x = 0\n",
    "\n",
    "class MyThread2(threading.Thread):\n",
    "    def run(self):\n",
    "        global x\n",
    "        time.sleep(random.random())\n",
    "        with lock:\n",
    "            for i in range(100000):\n",
    "                x += 1\n",
    "\n",
    "threads = []\n",
    "for i in range(1000):\n",
    "    threads.append(MyThread2(name = i))\n",
    "    threads[i].start()\n",
    "for t in threads:\n",
    "    t.join()    \n",
    "    \n",
    "print(x)"
   ]
  }
 ],
 "metadata": {
  "kernelspec": {
   "display_name": "Python 3 (ipykernel)",
   "language": "python",
   "name": "python3"
  },
  "language_info": {
   "codemirror_mode": {
    "name": "ipython",
    "version": 3
   },
   "file_extension": ".py",
   "mimetype": "text/x-python",
   "name": "python",
   "nbconvert_exporter": "python",
   "pygments_lexer": "ipython3",
   "version": "3.10.11"
  }
 },
 "nbformat": 4,
 "nbformat_minor": 5
}
