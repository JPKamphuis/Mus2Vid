{
 "cells": [
  {
   "cell_type": "code",
   "execution_count": 33,
   "id": "d6837dd7",
   "metadata": {},
   "outputs": [],
   "source": [
    "class DequeArray():\n",
    "    def __init__(self, capacity, append_func, throw_exceptions):\n",
    "        self.first = 0\n",
    "        self.last = 0\n",
    "        self.size = 0\n",
    "        self.throw_exceptions = throw_exceptions\n",
    "        self.capacity = capacity\n",
    "        self.append_func = append_func\n",
    "        self.data = []\n",
    "        for i in range(self.capacity):\n",
    "            self.data.append(None)\n",
    "        \n",
    "    def enqueue(self, data):\n",
    "        if self.size == self.capacity:\n",
    "            if self.throw_exceptions:\n",
    "                raise AttributeError('Queue array is full')\n",
    "            else:\n",
    "                self.data[self.last] = data\n",
    "                self.last = (self.last + 1) % self.capacity\n",
    "                self.first = (self.first + 1) % self.capacity\n",
    "        else:\n",
    "            self.data[self.last] = data\n",
    "            self.size += 1\n",
    "            self.last = (self.last + 1) % self.capacity\n",
    "        \n",
    "    def dequeue(self):\n",
    "        if self.size == 0 and self.throw_exceptions:\n",
    "            if self.throw_exceptions:\n",
    "                raise AttributeError('No elements to dequeue')\n",
    "            else:\n",
    "                return None\n",
    "        else:\n",
    "            temp_ref = self.data[self.first]\n",
    "            self.first = (self.first + 1) % self.capacity\n",
    "            return temp_ref\n",
    "        \n",
    "    def peek_back_n(self, n_elems):\n",
    "        if n_elems < 1:\n",
    "            raise ValueError('Invalid peek_n call')\n",
    "        current_n = self.last\n",
    "        out_elem = self.data[current_n - 1]\n",
    "        for i in range(0, min(n_elems, self.capacity) - 1):\n",
    "            current_n = (current_n - 1) % self.capacity\n",
    "            out_elem = self.append_func(self.data[current_n - 1], out_elem)\n",
    "        return out_elem"
   ]
  },
  {
   "cell_type": "code",
   "execution_count": 34,
   "id": "31670711",
   "metadata": {},
   "outputs": [
    {
     "name": "stdout",
     "output_type": "stream",
     "text": [
      "['A', 'B', None, None, None]\n",
      "2\n",
      "0\n",
      "A\n",
      "B\n"
     ]
    }
   ],
   "source": [
    "d = DequeArray(5, append_str, False)\n",
    "d.enqueue(\"A\")\n",
    "d.enqueue(\"B\")\n",
    "print(d.data)\n",
    "print(d.last)\n",
    "print(d.first)\n",
    "print(d.dequeue())\n",
    "print(d.dequeue())"
   ]
  }
 ],
 "metadata": {
  "kernelspec": {
   "display_name": "Python 3 (ipykernel)",
   "language": "python",
   "name": "python3"
  },
  "language_info": {
   "codemirror_mode": {
    "name": "ipython",
    "version": 3
   },
   "file_extension": ".py",
   "mimetype": "text/x-python",
   "name": "python",
   "nbconvert_exporter": "python",
   "pygments_lexer": "ipython3",
   "version": "3.10.11"
  }
 },
 "nbformat": 4,
 "nbformat_minor": 5
}
