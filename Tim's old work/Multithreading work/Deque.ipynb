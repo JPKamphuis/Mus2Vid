{
 "cells": [
  {
   "cell_type": "code",
   "execution_count": 27,
   "id": "4e939873",
   "metadata": {},
   "outputs": [],
   "source": [
    "class Node():\n",
    "    def __init__(self, data: str):\n",
    "        self.data = data\n",
    "        self.next = None\n",
    "        self.prev = None\n",
    "    \n",
    "    def toString(self):\n",
    "        return f\"Node with contents \\\"%s\\\"\" % self.data\n",
    "        \n",
    "class Deque():\n",
    "    def __init__(self):\n",
    "        self.first = None\n",
    "        self.last = None\n",
    "        self.size = 0\n",
    "    \n",
    "    def push_back(self, node):\n",
    "        if self.size == 0:\n",
    "            self.first = node\n",
    "            self.last = node\n",
    "        else:\n",
    "            self.last.next = node\n",
    "            node.prev = self.last\n",
    "            self.last = node\n",
    "        self.size += 1\n",
    "            \n",
    "    def push_front(self, node):\n",
    "        if self.size == 0:\n",
    "            self.first = node\n",
    "            self.last = node\n",
    "        else:\n",
    "            self.first.prev = node\n",
    "            node.next = self.first\n",
    "            self.first = node\n",
    "        self.size += 1\n",
    "            \n",
    "    def dequeue_back(self):\n",
    "        if self.size < 1:\n",
    "            return None\n",
    "        out = self.last\n",
    "        if size == 1:\n",
    "            self.first = None\n",
    "            self.last = None\n",
    "        else:\n",
    "            temp_ref = self.last.prev\n",
    "            self.last.prev.next = None\n",
    "            self.last.prev = None\n",
    "            self.last.next = None\n",
    "            self.last = temp_ref\n",
    "        self.size -= 1\n",
    "        return out\n",
    "    \n",
    "    def dequeue_front(self):\n",
    "        if self.size < 1:\n",
    "            return None\n",
    "        out = self.first\n",
    "        if self.size == 1:\n",
    "            self.first = None\n",
    "            self.last = None\n",
    "        else:\n",
    "            temp_ref = self.first.next\n",
    "            self.first.next.prev = None\n",
    "            self.first.next = None\n",
    "            self.first.prev = None\n",
    "            self.first = temp_ref\n",
    "        size -= 1\n",
    "        return out\n",
    "        \n",
    "    def peek_n(self, n_elems):\n",
    "        out_string = \"\"\n",
    "        current_ref = self.last\n",
    "        for i in range(0, n_elems):\n",
    "            out_string = str(current_ref.data) + out_string\n",
    "            if not current_ref.prev is None:\n",
    "                current_ref = current_ref.prev\n",
    "            else:\n",
    "                break\n",
    "        return out_string"
   ]
  },
  {
   "cell_type": "code",
   "execution_count": 29,
   "id": "ace7df18",
   "metadata": {},
   "outputs": [
    {
     "name": "stdout",
     "output_type": "stream",
     "text": [
      "Node with contents \"Z\" -> Node with contents \"A\" -> Node with contents \"B\" -> Node with contents \"C\"\n",
      "ABC\n"
     ]
    }
   ],
   "source": [
    "d = Deque()\n",
    "d.push_back(Node(\"A\"))\n",
    "d.push_back(Node(\"B\"))\n",
    "d.push_back(Node(\"C\"))\n",
    "d.push_front(Node(\"Z\"))\n",
    "d.print_contents()\n",
    "print(d.peek_n(3))"
   ]
  }
 ],
 "metadata": {
  "kernelspec": {
   "display_name": "Python 3 (ipykernel)",
   "language": "python",
   "name": "python3"
  },
  "language_info": {
   "codemirror_mode": {
    "name": "ipython",
    "version": 3
   },
   "file_extension": ".py",
   "mimetype": "text/x-python",
   "name": "python",
   "nbconvert_exporter": "python",
   "pygments_lexer": "ipython3",
   "version": "3.10.11"
  }
 },
 "nbformat": 4,
 "nbformat_minor": 5
}
