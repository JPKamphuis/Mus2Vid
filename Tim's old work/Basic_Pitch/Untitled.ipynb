{
 "cells": [
  {
   "cell_type": "code",
   "execution_count": 3,
   "id": "9bdea4f9",
   "metadata": {},
   "outputs": [],
   "source": [
    "import pretty_midi as pm"
   ]
  },
  {
   "cell_type": "code",
   "execution_count": 6,
   "id": "f5466191",
   "metadata": {},
   "outputs": [],
   "source": [
    "file = pm.PrettyMIDI(\"C:\\\\Users\\\\Tim\\\\Downloads\\\\lmd_midi\\\\lmd_matched\\\\N\\\\N\\\\J\\\\TRNNJHB128F42961A9\\\\8ab1d86e0941e07f024757064567773a.mid\")"
   ]
  },
  {
   "cell_type": "code",
   "execution_count": 10,
   "id": "70b60d26",
   "metadata": {},
   "outputs": [
    {
     "name": "stdout",
     "output_type": "stream",
     "text": [
      "\"Cool Yule\" by Steve Allen (ASCAP)\n"
     ]
    }
   ],
   "source": [
    "for instrument in file.instruments:\n",
    "    print(instrument.name)"
   ]
  },
  {
   "cell_type": "code",
   "execution_count": 13,
   "id": "6a1f3cdc",
   "metadata": {},
   "outputs": [],
   "source": [
    "file2 = pm.PrettyMIDI(\"C:\\\\Users\\\\Tim\\\\Downloads\\\\lmd_midi\\\\lmd_matched\\\\N\\\\N\\\\J\\\\TRNNJBE128F92FFCB4\\\\11a8fd4c8e9c45ed9dc51bfe377602f5.mid\")"
   ]
  },
  {
   "cell_type": "code",
   "execution_count": 14,
   "id": "fd87ed69",
   "metadata": {},
   "outputs": [
    {
     "name": "stdout",
     "output_type": "stream",
     "text": [
      "\n",
      "\n",
      "\n",
      "\n",
      "Poly\n",
      "choeurs\n",
      "Square\n",
      "Saw\n",
      "Syndrum\n",
      "Drums\n"
     ]
    }
   ],
   "source": [
    "for instrument in file2.instruments:\n",
    "    print(instrument.name)"
   ]
  },
  {
   "cell_type": "code",
   "execution_count": 15,
   "id": "a4cfdb02",
   "metadata": {},
   "outputs": [],
   "source": [
    "file3 = pm.PrettyMIDI(\"C:\\\\Users\\\\Tim\\\\Downloads\\\\_Cool Yule_ by Steve Allen (ASCAP).mid\")"
   ]
  },
  {
   "cell_type": "code",
   "execution_count": 17,
   "id": "1333bea5",
   "metadata": {},
   "outputs": [
    {
     "data": {
      "text/plain": [
       "212.9289099526081"
      ]
     },
     "execution_count": 17,
     "metadata": {},
     "output_type": "execute_result"
    }
   ],
   "source": [
    "file3.estimate_tempo()"
   ]
  }
 ],
 "metadata": {
  "kernelspec": {
   "display_name": "Python 3 (ipykernel)",
   "language": "python",
   "name": "python3"
  },
  "language_info": {
   "codemirror_mode": {
    "name": "ipython",
    "version": 3
   },
   "file_extension": ".py",
   "mimetype": "text/x-python",
   "name": "python",
   "nbconvert_exporter": "python",
   "pygments_lexer": "ipython3",
   "version": "3.10.11"
  }
 },
 "nbformat": 4,
 "nbformat_minor": 5
}
