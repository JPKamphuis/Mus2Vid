{
 "cells": [
  {
   "cell_type": "code",
   "execution_count": 36,
   "id": "initial_id",
   "metadata": {
    "collapsed": true,
    "ExecuteTime": {
     "end_time": "2024-01-22T22:25:29.171386500Z",
     "start_time": "2024-01-22T22:25:29.136868Z"
    }
   },
   "outputs": [
    {
     "ename": "ImportError",
     "evalue": "cannot import name 'ANNOTATIONS_FILE_1' from 'utils.util' (C:\\Users\\TPNml\\Documents\\GitHub\\Mus2Vid-code\\src\\emotion\\data\\utils\\util.py)",
     "output_type": "error",
     "traceback": [
      "\u001B[1;31m---------------------------------------------------------------------------\u001B[0m",
      "\u001B[1;31mImportError\u001B[0m                               Traceback (most recent call last)",
      "Cell \u001B[1;32mIn[36], line 4\u001B[0m\n\u001B[0;32m      2\u001B[0m \u001B[38;5;28;01mimport\u001B[39;00m \u001B[38;5;21;01mos\u001B[39;00m\n\u001B[0;32m      3\u001B[0m \u001B[38;5;28;01mimport\u001B[39;00m \u001B[38;5;21;01msys\u001B[39;00m\n\u001B[1;32m----> 4\u001B[0m \u001B[38;5;28;01mfrom\u001B[39;00m \u001B[38;5;21;01mutils\u001B[39;00m\u001B[38;5;21;01m.\u001B[39;00m\u001B[38;5;21;01mutil\u001B[39;00m \u001B[38;5;28;01mimport\u001B[39;00m RAW_ANNOTATIONS_DIR, RAW_AUDIO_DIR, PROCESSED_ANNOTATIONS_DIR, PROCESSED_AUDIO_DIR, \\\n\u001B[0;32m      5\u001B[0m     ANNOTATIONS_FILE, ANNOTATIONS_FILE_1, ANNOTATIONS_FILE_2, TEMP_AUDIO_DIR\n\u001B[0;32m      7\u001B[0m CURR_PATH \u001B[38;5;241m=\u001B[39m \u001B[38;5;124m\"\u001B[39m\u001B[38;5;124mC:/Users/TPNml/Documents/GitHub/Mus2Vid-code/\u001B[39m\u001B[38;5;124m\"\u001B[39m\n",
      "\u001B[1;31mImportError\u001B[0m: cannot import name 'ANNOTATIONS_FILE_1' from 'utils.util' (C:\\Users\\TPNml\\Documents\\GitHub\\Mus2Vid-code\\src\\emotion\\data\\utils\\util.py)"
     ]
    }
   ],
   "source": [
    "import pandas as pd\n",
    "import os\n",
    "import sys\n",
    "from utils.util import RAW_ANNOTATIONS_DIR, RAW_AUDIO_DIR, PROCESSED_ANNOTATIONS_DIR, PROCESSED_AUDIO_DIR, \\\n",
    "    ANNOTATIONS_FILE, ANNOTATIONS_FILE_1, ANNOTATIONS_FILE_2, TEMP_AUDIO_DIR\n",
    "\n",
    "CURR_PATH = \"C:/Users/TPNml/Documents/GitHub/Mus2Vid-code/\""
   ]
  },
  {
   "cell_type": "code",
   "execution_count": 4,
   "outputs": [],
   "source": [
    "df = pd.DataFrame(columns=[\"name\", \"times\"])"
   ],
   "metadata": {
    "collapsed": false,
    "ExecuteTime": {
     "end_time": "2024-01-22T20:30:20.788304500Z",
     "start_time": "2024-01-22T20:30:20.729699600Z"
    }
   },
   "id": "306a9b012986d400"
  },
  {
   "cell_type": "code",
   "execution_count": 5,
   "outputs": [],
   "source": [
    "#df.loc[len(df.index)] = [\"hi\", 1]\n",
    "#df.loc[len(df.index)] = [\"bye\", 1]"
   ],
   "metadata": {
    "collapsed": false,
    "ExecuteTime": {
     "end_time": "2024-01-22T20:30:20.791303400Z",
     "start_time": "2024-01-22T20:30:20.746352Z"
    }
   },
   "id": "d0198c7d5a2bbf99"
  },
  {
   "cell_type": "code",
   "execution_count": 6,
   "outputs": [],
   "source": [
    "#print(pd.DataFrame(df.values.repeat(3, axis=0), columns=df.columns))"
   ],
   "metadata": {
    "collapsed": false,
    "ExecuteTime": {
     "end_time": "2024-01-22T20:30:20.791303400Z",
     "start_time": "2024-01-22T20:30:20.761308300Z"
    }
   },
   "id": "d025d81f55a6cd3a"
  },
  {
   "cell_type": "code",
   "execution_count": 7,
   "outputs": [
    {
     "name": "stdout",
     "output_type": "stream",
     "text": [
      " Volume in drive C is Windows\n",
      " Volume Serial Number is A8E0-A905\n",
      "\n",
      " Directory of C:\\Users\\TPNml\\Documents\\GitHub\\Mus2Vid-code\\src\\emotion\\data\\pandas_exploration\n",
      "\n",
      "01/22/2024  15:30    <DIR>          .\n",
      "01/22/2024  15:23    <DIR>          ..\n",
      "01/22/2024  15:24                 0 a# - Copy (2).txt\n",
      "01/22/2024  15:24                 0 a# - Copy.txt\n",
      "01/22/2024  15:24                 0 a#.txt\n",
      "01/22/2024  15:24                 0 b# - Copy (2).txt\n",
      "01/22/2024  15:24                 0 b# - Copy (3).txt\n",
      "01/22/2024  15:24                 0 b# - Copy.txt\n",
      "01/22/2024  15:24                 0 b#.txt\n",
      "01/22/2024  15:24                 0 c# - Copy (2).txt\n",
      "01/22/2024  15:24                 0 c# - Copy (3).txt\n",
      "01/22/2024  15:24                 0 c# - Copy (4).txt\n",
      "01/22/2024  15:24                 0 c# - Copy (5).txt\n",
      "01/22/2024  15:24                 0 c# - Copy.txt\n",
      "01/22/2024  15:24                 0 c#.txt\n",
      "01/22/2024  15:30             5,577 pandas_testing.ipynb\n",
      "              14 File(s)          5,577 bytes\n",
      "               2 Dir(s)  215,782,199,296 bytes free\n"
     ]
    }
   ],
   "source": [
    "! dir"
   ],
   "metadata": {
    "collapsed": false,
    "ExecuteTime": {
     "end_time": "2024-01-22T20:30:20.862838500Z",
     "start_time": "2024-01-22T20:30:20.778303Z"
    }
   },
   "id": "f15966e81a771daf"
  },
  {
   "cell_type": "code",
   "execution_count": 7,
   "outputs": [
    {
     "name": "stdout",
     "output_type": "stream",
     "text": [
      "                   name times\n",
      "0    pandas_exploration     1\n",
      "1  pandas_testing.ipynb     1\n",
      "2      process_annot.py     1\n",
      "3        process_aud.py     1\n",
      "4                 utils     1\n",
      "5           __init__.py     1\n",
      "6           __pycache__     1\n"
     ]
    }
   ],
   "source": [
    "df = pd.DataFrame(columns=[\"name\", \"times\"])\n",
    "for filename in os.listdir(\".\\\\\"):\n",
    "    parts = filename.split(\"#\")\n",
    "    root = parts[0]\n",
    "    if df.loc[df['name'] == root].empty:\n",
    "        df.loc[len(df.index)] = [root, 1]\n",
    "    else:\n",
    "        df.loc[df['name'] == root, \"times\"] += 1\n",
    "print(pd.DataFrame(df.values.repeat(df.times, axis=0), columns=df.columns))"
   ],
   "metadata": {
    "collapsed": false,
    "ExecuteTime": {
     "end_time": "2024-01-22T22:14:56.645256800Z",
     "start_time": "2024-01-22T22:14:56.606256200Z"
    }
   },
   "id": "b4fa6830b8489e82"
  },
  {
   "cell_type": "code",
   "execution_count": 21,
   "outputs": [
    {
     "data": {
      "text/plain": "      song_id  valence_mean  valence_std  arousal_mean  arousal_std\n0           2           3.1         0.94           3.0         0.63\n1           3           3.5         1.75           3.3         1.62\n2           4           5.7         1.42           5.5         1.63\n3           5           4.4         2.01           5.3         1.85\n4           7           5.8         1.47           6.4         1.69\n...       ...           ...          ...           ...          ...\n1739     1996           3.9         1.87           5.9         2.21\n1740     1997           5.3         1.42           3.9         1.14\n1741     1998           6.4         1.50           6.2         1.60\n1742     1999           4.6         2.11           5.4         1.80\n1743     2000           5.8         1.78           6.0         1.67\n\n[1744 rows x 5 columns]",
      "text/html": "<div>\n<style scoped>\n    .dataframe tbody tr th:only-of-type {\n        vertical-align: middle;\n    }\n\n    .dataframe tbody tr th {\n        vertical-align: top;\n    }\n\n    .dataframe thead th {\n        text-align: right;\n    }\n</style>\n<table border=\"1\" class=\"dataframe\">\n  <thead>\n    <tr style=\"text-align: right;\">\n      <th></th>\n      <th>song_id</th>\n      <th>valence_mean</th>\n      <th>valence_std</th>\n      <th>arousal_mean</th>\n      <th>arousal_std</th>\n    </tr>\n  </thead>\n  <tbody>\n    <tr>\n      <th>0</th>\n      <td>2</td>\n      <td>3.1</td>\n      <td>0.94</td>\n      <td>3.0</td>\n      <td>0.63</td>\n    </tr>\n    <tr>\n      <th>1</th>\n      <td>3</td>\n      <td>3.5</td>\n      <td>1.75</td>\n      <td>3.3</td>\n      <td>1.62</td>\n    </tr>\n    <tr>\n      <th>2</th>\n      <td>4</td>\n      <td>5.7</td>\n      <td>1.42</td>\n      <td>5.5</td>\n      <td>1.63</td>\n    </tr>\n    <tr>\n      <th>3</th>\n      <td>5</td>\n      <td>4.4</td>\n      <td>2.01</td>\n      <td>5.3</td>\n      <td>1.85</td>\n    </tr>\n    <tr>\n      <th>4</th>\n      <td>7</td>\n      <td>5.8</td>\n      <td>1.47</td>\n      <td>6.4</td>\n      <td>1.69</td>\n    </tr>\n    <tr>\n      <th>...</th>\n      <td>...</td>\n      <td>...</td>\n      <td>...</td>\n      <td>...</td>\n      <td>...</td>\n    </tr>\n    <tr>\n      <th>1739</th>\n      <td>1996</td>\n      <td>3.9</td>\n      <td>1.87</td>\n      <td>5.9</td>\n      <td>2.21</td>\n    </tr>\n    <tr>\n      <th>1740</th>\n      <td>1997</td>\n      <td>5.3</td>\n      <td>1.42</td>\n      <td>3.9</td>\n      <td>1.14</td>\n    </tr>\n    <tr>\n      <th>1741</th>\n      <td>1998</td>\n      <td>6.4</td>\n      <td>1.50</td>\n      <td>6.2</td>\n      <td>1.60</td>\n    </tr>\n    <tr>\n      <th>1742</th>\n      <td>1999</td>\n      <td>4.6</td>\n      <td>2.11</td>\n      <td>5.4</td>\n      <td>1.80</td>\n    </tr>\n    <tr>\n      <th>1743</th>\n      <td>2000</td>\n      <td>5.8</td>\n      <td>1.78</td>\n      <td>6.0</td>\n      <td>1.67</td>\n    </tr>\n  </tbody>\n</table>\n<p>1744 rows × 5 columns</p>\n</div>"
     },
     "execution_count": 21,
     "metadata": {},
     "output_type": "execute_result"
    }
   ],
   "source": [
    "annotations = pd.read_csv(\n",
    "    \"C:\\\\Users\\\\TPNml\\\\Documents\\\\GitHub\\\\Mus2Vid-code\\\\data\\\\raw\\\\deam_dataset\\\\DEAM_Annotations\\\\annotations\\\\annotations averaged per song\\\\song_level\\\\static_annotations_averaged_songs_1_2000.csv\")\n",
    "annotations = annotations.rename(columns={\n",
    "    \" valence_mean\": \"valence_mean\",\n",
    "    \" valence_std\": \"valence_std\",\n",
    "    \" arousal_mean\": \"arousal_mean\",\n",
    "    \" arousal_std\": \"arousal_std\"\n",
    "})\n",
    "annotations"
   ],
   "metadata": {
    "collapsed": false,
    "ExecuteTime": {
     "end_time": "2024-01-22T20:39:17.470386600Z",
     "start_time": "2024-01-22T20:39:17.437846100Z"
    }
   },
   "id": "8993737fac7169a4"
  },
  {
   "cell_type": "code",
   "execution_count": 24,
   "outputs": [
    {
     "ename": "Exception",
     "evalue": "song_id not found in annotations df",
     "output_type": "error",
     "traceback": [
      "\u001B[1;31m---------------------------------------------------------------------------\u001B[0m",
      "\u001B[1;31mException\u001B[0m                                 Traceback (most recent call last)",
      "Cell \u001B[1;32mIn[24], line 6\u001B[0m\n\u001B[0;32m      4\u001B[0m root \u001B[38;5;241m=\u001B[39m filename\u001B[38;5;241m.\u001B[39msplit(\u001B[38;5;124m\"\u001B[39m\u001B[38;5;124m.\u001B[39m\u001B[38;5;124m\"\u001B[39m)[\u001B[38;5;241m0\u001B[39m]\n\u001B[0;32m      5\u001B[0m \u001B[38;5;28;01mif\u001B[39;00m annotations\u001B[38;5;241m.\u001B[39mloc[annotations[\u001B[38;5;124m'\u001B[39m\u001B[38;5;124msong_id\u001B[39m\u001B[38;5;124m'\u001B[39m] \u001B[38;5;241m==\u001B[39m \u001B[38;5;28mid\u001B[39m]\u001B[38;5;241m.\u001B[39mempty:\n\u001B[1;32m----> 6\u001B[0m     \u001B[38;5;28;01mraise\u001B[39;00m \u001B[38;5;167;01mException\u001B[39;00m(\u001B[38;5;124m\"\u001B[39m\u001B[38;5;124msong_id not found in annotations df\u001B[39m\u001B[38;5;124m\"\u001B[39m)\n\u001B[0;32m      7\u001B[0m \u001B[38;5;28;01melse\u001B[39;00m:\n\u001B[0;32m      8\u001B[0m     output\u001B[38;5;241m.\u001B[39mloc[\u001B[38;5;28mlen\u001B[39m(output\u001B[38;5;241m.\u001B[39mindex)] \u001B[38;5;241m=\u001B[39m annotations\u001B[38;5;241m.\u001B[39mloc[annotations[\u001B[38;5;124m'\u001B[39m\u001B[38;5;124msong_id\u001B[39m\u001B[38;5;124m'\u001B[39m] \u001B[38;5;241m==\u001B[39m \u001B[38;5;28mid\u001B[39m]\u001B[38;5;241m.\u001B[39mcopy()\n",
      "\u001B[1;31mException\u001B[0m: song_id not found in annotations df"
     ]
    }
   ],
   "source": [
    "output = pd.DataFrame(columns=[\"song_id\", \"valence_mean\", \"valence_std\", \"arousal_mean\", \"arousal_std\"])\n",
    "for filename in os.listdir(\".\\\\\"):\n",
    "    id = filename.split(\"#\")[0]\n",
    "    root = filename.split(\".\")[0]\n",
    "    if annotations.loc[annotations['song_id'] == id].empty:\n",
    "        raise Exception(\"song_id not found in annotations df\")\n",
    "    else:\n",
    "        idx = len(output.index)\n",
    "        output.loc[idx] = annotations.loc[annotations['song_id'] == id].copy()\n",
    "        output.loc[idx]['song_id'] = root\n"
   ],
   "metadata": {
    "collapsed": false,
    "ExecuteTime": {
     "end_time": "2024-01-22T20:50:18.795814800Z",
     "start_time": "2024-01-22T20:50:18.725283600Z"
    }
   },
   "id": "61c82426832db412"
  },
  {
   "cell_type": "code",
   "execution_count": 24,
   "outputs": [
    {
     "name": "stdout",
     "output_type": "stream",
     "text": [
      "2001\n",
      "2001##(0,0)\n"
     ]
    },
    {
     "ename": "Exception",
     "evalue": "song_id not found in annotations df",
     "output_type": "error",
     "traceback": [
      "\u001B[1;31m---------------------------------------------------------------------------\u001B[0m",
      "\u001B[1;31mException\u001B[0m                                 Traceback (most recent call last)",
      "Cell \u001B[1;32mIn[24], line 19\u001B[0m\n\u001B[0;32m     17\u001B[0m     \u001B[38;5;28mprint\u001B[39m(\u001B[38;5;28mid\u001B[39m)\n\u001B[0;32m     18\u001B[0m     \u001B[38;5;28mprint\u001B[39m(root)\n\u001B[1;32m---> 19\u001B[0m     \u001B[38;5;28;01mraise\u001B[39;00m \u001B[38;5;167;01mException\u001B[39;00m(\u001B[38;5;124m\"\u001B[39m\u001B[38;5;124msong_id not found in annotations df\u001B[39m\u001B[38;5;124m\"\u001B[39m)\n\u001B[0;32m     20\u001B[0m \u001B[38;5;28;01melse\u001B[39;00m:\n\u001B[0;32m     21\u001B[0m     idx \u001B[38;5;241m=\u001B[39m \u001B[38;5;28mlen\u001B[39m(output\u001B[38;5;241m.\u001B[39mindex)\n",
      "\u001B[1;31mException\u001B[0m: song_id not found in annotations df"
     ]
    }
   ],
   "source": [
    "if not os.path.exists(CURR_PATH + PROCESSED_ANNOTATIONS_DIR):\n",
    "    os.mkdir(CURR_PATH + PROCESSED_ANNOTATIONS_DIR)\n",
    "\n",
    "annotations_1 = pd.read_csv(f\"{CURR_PATH}{RAW_ANNOTATIONS_DIR}/{ANNOTATIONS_FILE_1}\")\n",
    "annotations_2 = pd.read_csv(f\"{CURR_PATH}{RAW_ANNOTATIONS_DIR}/{ANNOTATIONS_FILE_2}\")\n",
    "annotations = pd.concat([annotations_1, annotations_2])\n",
    "annotations = annotations.rename(columns={\n",
    "    \" valence_mean\": \"valence_mean\",\n",
    "    \" valence_std\": \"valence_std\",\n",
    "    \" arousal_mean\": \"arousal_mean\",\n",
    "    \" arousal_std\": \"arousal_std\"\n",
    "})\n",
    "output = pd.DataFrame(columns=annotations.columns)\n",
    "row_list = []\n",
    "for filename in os.listdir(CURR_PATH + PROCESSED_AUDIO_DIR):\n",
    "    id = filename.split(\"#\")[0]\n",
    "    root = filename.split(\".\")[0]\n",
    "    if annotations.loc[annotations['song_id'] == int(id)].empty:\n",
    "        print(id)\n",
    "        print(root)\n",
    "        raise Exception(\"song_id not found in annotations df\")\n",
    "    else:\n",
    "        idx = len(output.index)\n",
    "        row_list.append(annotations.loc[annotations['song_id'] == int(id)].copy())\n",
    "        row_list[len(row_list) - 1]['song_id'] = root\n",
    "output = pd.concat(row_list)\n",
    "output.to_csv(f\"{CURR_PATH}{PROCESSED_ANNOTATIONS_DIR}/{ANNOTATIONS_FILE}\", index=False)"
   ],
   "metadata": {
    "collapsed": false,
    "ExecuteTime": {
     "end_time": "2024-01-22T22:21:34.705126300Z",
     "start_time": "2024-01-22T22:21:25.162252100Z"
    }
   },
   "id": "c4e69890b29eeccf"
  },
  {
   "cell_type": "code",
   "execution_count": 27,
   "outputs": [
    {
     "data": {
      "text/plain": "Empty DataFrame\nColumns: [song_id, valence_mean, valence_std, arousal_mean, arousal_std]\nIndex: []",
      "text/html": "<div>\n<style scoped>\n    .dataframe tbody tr th:only-of-type {\n        vertical-align: middle;\n    }\n\n    .dataframe tbody tr th {\n        vertical-align: top;\n    }\n\n    .dataframe thead th {\n        text-align: right;\n    }\n</style>\n<table border=\"1\" class=\"dataframe\">\n  <thead>\n    <tr style=\"text-align: right;\">\n      <th></th>\n      <th>song_id</th>\n      <th>valence_mean</th>\n      <th>valence_std</th>\n      <th>arousal_mean</th>\n      <th>arousal_std</th>\n    </tr>\n  </thead>\n  <tbody>\n  </tbody>\n</table>\n</div>"
     },
     "execution_count": 27,
     "metadata": {},
     "output_type": "execute_result"
    }
   ],
   "source": [
    "annotations.loc[annotations['song_id'] == int(2001)]"
   ],
   "metadata": {
    "collapsed": false,
    "ExecuteTime": {
     "end_time": "2024-01-22T22:21:53.202844500Z",
     "start_time": "2024-01-22T22:21:53.185846100Z"
    }
   },
   "id": "ca57248ca16045aa"
  }
 ],
 "metadata": {
  "kernelspec": {
   "display_name": "Python 3",
   "language": "python",
   "name": "python3"
  },
  "language_info": {
   "codemirror_mode": {
    "name": "ipython",
    "version": 2
   },
   "file_extension": ".py",
   "mimetype": "text/x-python",
   "name": "python",
   "nbconvert_exporter": "python",
   "pygments_lexer": "ipython2",
   "version": "2.7.6"
  }
 },
 "nbformat": 4,
 "nbformat_minor": 5
}
